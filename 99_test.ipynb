{
 "cells": [
  {
   "cell_type": "code",
   "execution_count": null,
   "metadata": {},
   "outputs": [],
   "source": [
    "# default_exp test"
   ]
  },
  {
   "cell_type": "code",
   "execution_count": null,
   "metadata": {},
   "outputs": [],
   "source": [
    "#hide\n",
    "from nbdev.showdoc import *\n",
    "! pip install -Ue ."
   ]
  },
  {
   "cell_type": "markdown",
   "metadata": {},
   "source": [
    "# Imports"
   ]
  },
  {
   "cell_type": "code",
   "execution_count": null,
   "metadata": {},
   "outputs": [],
   "source": [
    "#export\n",
    "from progressive_samplers.core import grid_search"
   ]
  },
  {
   "cell_type": "code",
   "execution_count": null,
   "metadata": {},
   "outputs": [],
   "source": [
    "#export\n",
    "def test_grid_search():\n",
    "    generator = grid_search(x_range=[0, 1], y_range=[0, 1])\n",
    "    assert list(next(generator)) == [0.0, 1.0]\n",
    "    assert list(next(generator)) == [1.0, 1.0]\n",
    "    assert list(next(generator)) == [0.0, 0.0]\n",
    "    assert list(next(generator)) == [1.0, 0.0]\n",
    "    assert list(next(generator)) == [0.5, 1.0]"
   ]
  }
 ],
 "metadata": {
  "kernelspec": {
   "display_name": "Python 3",
   "language": "python",
   "name": "python3"
  }
 },
 "nbformat": 4,
 "nbformat_minor": 4
}
