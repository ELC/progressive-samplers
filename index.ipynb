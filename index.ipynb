{
 "cells": [
  {
   "cell_type": "markdown",
   "metadata": {},
   "source": [
    "# Progressive Samplers"
   ]
  },
  {
   "cell_type": "markdown",
   "metadata": {},
   "source": [
    "[![Python version](https://img.shields.io/badge/python-3.7%20%7C%203.8%20%7C%203.9-blue.svg?style=for-the-badge)](https://pypi.org/project/kedro/) \n",
    "[![Version](https://img.shields.io/pypi/v/prosamplers?style=for-the-badge)](https://pypi.org/project/prosamplers/) \n",
    "[![codecov](https://img.shields.io/codecov/c/gh/ELC/prosamplers/master?style=for-the-badge&token=24HLR6VMK2)](https://codecov.io/gh/ELC/prosamplers) \n",
    "[![Master](https://img.shields.io/github/checks-status/ELC/prosamplers/master?label=Master&style=for-the-badge)](https://github.com/ELC/progressive-samplers/actions?query=workflow%3A%22Build%2C+Test+and+Deploy%22)\n",
    "[![Develop](https://img.shields.io/github/checks-status/ELC/prosamplers/develop?label=develop&style=for-the-badge)](https://github.com/ELC/prosamplers/actions?query=workflow%3A%22Build+and+Test%22)\n",
    "[![License](https://img.shields.io/badge/license-Apache%202.0-blue.svg?style=for-the-badge)](https://github.com/ELC/prosamplers/blob/master/LICENSE)\n",
    "\n",
    "Collection of progressive samplers for general use, mainly for Hyperparameter search"
   ]
  },
  {
   "cell_type": "markdown",
   "metadata": {},
   "source": [
    "# Install using pip"
   ]
  },
  {
   "cell_type": "markdown",
   "metadata": {},
   "source": [
    "`pip install prosamplers`"
   ]
  },
  {
   "cell_type": "markdown",
   "metadata": {},
   "source": [
    "# Frequently Asked Questions\n",
    "\n",
    "Some terminology explanations\n",
    "\n",
    "### What is a sampler?\n",
    "\n",
    "A sampler is a method / algorithm that generates a sequence of points in a given search space\n",
    "\n",
    "### What is progressive?\n",
    "\n",
    "A progressive sampler allows generating points on a point-by-point basis and does not required to say in advance how many points there need to be. They allow to ask for more points indefinetely, some only have a minimal memory footprint whereas other require complex memory mechanism\n",
    "\n",
    "### Why we need Progressive Samplers?\n",
    "\n",
    "Most use cases may be solve with a simple Grid or Random search, but when dimensionality is not huge (< 100 or so dimensions) and the computation time for each point is really expensive, this alternative sampling methods could outperform naive methods as Grid or Random Search. As dimensionality increases, results tend to converge to those of Random Search"
   ]
  },
  {
   "cell_type": "markdown",
   "metadata": {},
   "source": [
    "# Usage"
   ]
  },
  {
   "cell_type": "code",
   "execution_count": null,
   "metadata": {},
   "outputs": [
    {
     "data": {
      "text/plain": [
       "2"
      ]
     },
     "execution_count": null,
     "metadata": {},
     "output_type": "execute_result"
    }
   ],
   "source": [
    "1+1"
   ]
  },
  {
   "cell_type": "code",
   "execution_count": null,
   "metadata": {},
   "outputs": [],
   "source": []
  }
 ],
 "metadata": {
  "kernelspec": {
   "display_name": "Python 3",
   "language": "python",
   "name": "python3"
  }
 },
 "nbformat": 4,
 "nbformat_minor": 4
}
